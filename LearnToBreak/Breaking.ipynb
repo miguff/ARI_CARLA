{
 "cells": [
  {
   "cell_type": "markdown",
   "metadata": {},
   "source": [
    "### Make the Cars Stop in a case of cyclist"
   ]
  },
  {
   "cell_type": "code",
   "execution_count": 1,
   "metadata": {},
   "outputs": [],
   "source": [
    "import carla\n",
    "import numpy as np\n",
    "import cv2\n",
    "import time\n",
    "import sys\n",
    "sys.path.append('F:\\CARLA\\Windows\\CARLA_0.9.15\\PythonAPI\\carla') # tweak to where you put carla\n",
    "from agents.navigation.global_route_planner import GlobalRoutePlanner\n",
    "import matplotlib.pyplot as plt\n",
    "from scipy.interpolate import splprep, splev, interp1d\n",
    "import math"
   ]
  },
  {
   "cell_type": "code",
   "execution_count": 2,
   "metadata": {},
   "outputs": [],
   "source": [
    "client = carla.Client('localhost', 2000)\n",
    "\n",
    "world = client.get_world()\n",
    "\n",
    "blueprints = [bp for bp in world.get_blueprint_library().filter('*')]\n",
    "spawn_points = world.get_map().get_spawn_points()"
   ]
  },
  {
   "cell_type": "code",
   "execution_count": 21,
   "metadata": {},
   "outputs": [],
   "source": [
    "def carorigin():\n",
    "    global vehicle, vehicle_start_point\n",
    "    vehicle_bp = world.get_blueprint_library().filter('*mini*')\n",
    "    vehicle_start_point = spawn_points[94]\n",
    "    vehicle = world.try_spawn_actor(vehicle_bp[0], vehicle_start_point)"
   ]
  },
  {
   "cell_type": "code",
   "execution_count": 55,
   "metadata": {},
   "outputs": [],
   "source": [
    "def bicycleorigin():\n",
    "    global bicycle\n",
    "    bicycle_bp = world.get_blueprint_library().filter('*crossbike*')\n",
    "    bicycle_start_point = spawn_points[99]\n",
    "\n",
    "    bicycle = world.try_spawn_actor(bicycle_bp[0], bicycle_start_point)\n",
    "    \n",
    "    new_location = bicycle_start_point.location + carla.Location(y=17)\n",
    "    new_rotation = carla.Rotation(pitch=0, yaw=bicycle_start_point.rotation.yaw + 0, roll=0)\n",
    "\n",
    "    \n",
    "    bicyclepos = carla.Transform(new_location, new_rotation)\n",
    "    bicycle.set_transform(bicyclepos)"
   ]
  },
  {
   "cell_type": "code",
   "execution_count": 42,
   "metadata": {},
   "outputs": [],
   "source": [
    "def destroy():#Destroying the existing things\n",
    "    for actor in world.get_actors().filter('*vehicle*'):\n",
    "        actor.destroy()\n",
    "    for sensor in world.get_actors().filter('*sensor*'):\n",
    "        sensor.destroy()"
   ]
  },
  {
   "cell_type": "code",
   "execution_count": 62,
   "metadata": {},
   "outputs": [],
   "source": [
    "vehicle = None\n",
    "bicycle = None\n",
    "vehicle_start_point = None\n",
    "destroy()\n",
    "bicycleorigin()\n",
    "carorigin()"
   ]
  },
  {
   "cell_type": "code",
   "execution_count": 59,
   "metadata": {},
   "outputs": [],
   "source": [
    "destroy()"
   ]
  },
  {
   "cell_type": "code",
   "execution_count": 20,
   "metadata": {},
   "outputs": [],
   "source": [
    "def DrawPointsFor30Sec(world, spawn_points):\n",
    "    drawn_points = []\n",
    "    for index, waypoint in enumerate(spawn_points):\n",
    "        # Draw a string with an ID at the location of each spawn point\n",
    "        point_id = f'ID: {index}'\n",
    "        point = world.debug.draw_string(\n",
    "            waypoint.location,\n",
    "            point_id,\n",
    "            draw_shadow=False,\n",
    "            color=carla.Color(r=255, g=255, b=255),\n",
    "            life_time=30,  # Set to 0 to make it persist indefinitely\n",
    "            persistent_lines=True\n",
    "        )\n",
    "        drawn_points.append(point)\n",
    "\n",
    "DrawPointsFor30Sec(world, spawn_points)"
   ]
  },
  {
   "cell_type": "markdown",
   "metadata": {},
   "source": [
    "## Car and Cyclist position\n",
    "### Car Start: ID: 1\n",
    "### Car End: ID: 55\n",
    "### Bycicyle start: ID 108"
   ]
  },
  {
   "cell_type": "code",
   "execution_count": 57,
   "metadata": {},
   "outputs": [],
   "source": [
    "PREFERRED_SPEED = 30 #km/h\n",
    "SPEED_THRESHOLD = 2 #When we close to the required speed, it drops the throttle\n",
    "MAX_STEER_DEGREES = 40\n",
    "\n",
    "def maintain_speed(s: float) -> float:\n",
    "    \n",
    "    if s >= PREFERRED_SPEED:\n",
    "        return 0\n",
    "    elif s < PREFERRED_SPEED - SPEED_THRESHOLD:\n",
    "        return 0.8\n",
    "    else:\n",
    "        return 0.4"
   ]
  },
  {
   "cell_type": "code",
   "execution_count": 61,
   "metadata": {},
   "outputs": [],
   "source": [
    "# Make the cyclist go\n",
    "bicycle.apply_control(carla.VehicleControl(throttle=1))\n",
    "v = vehicle.get_velocity()\n",
    "speed = round(3.6*math.sqrt(v.x**2 + v.y**2 + v.z**2),0)\n",
    "estimated_throttle = maintain_speed(speed)\n",
    "vehicle.apply_control(carla.VehicleControl(throttle = estimated_throttle))\n"
   ]
  }
 ],
 "metadata": {
  "kernelspec": {
   "display_name": "carla-sim",
   "language": "python",
   "name": "python3"
  },
  "language_info": {
   "codemirror_mode": {
    "name": "ipython",
    "version": 3
   },
   "file_extension": ".py",
   "mimetype": "text/x-python",
   "name": "python",
   "nbconvert_exporter": "python",
   "pygments_lexer": "ipython3",
   "version": "3.7.16"
  }
 },
 "nbformat": 4,
 "nbformat_minor": 2
}
