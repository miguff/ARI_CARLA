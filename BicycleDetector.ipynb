{
 "cells": [
  {
   "cell_type": "code",
   "execution_count": 19,
   "metadata": {},
   "outputs": [],
   "source": [
    "import carla\n",
    "import numpy as np\n",
    "import cv2\n",
    "import time\n",
    "import sys\n",
    "import random\n",
    "from ultralytics import YOLO\n",
    "from matplotlib import cm\n",
    "sys.path.append('F:\\CARLA\\Windows\\CARLA_0.9.15\\PythonAPI\\carla') # tweak to where you put carla\n",
    "from agents.navigation.global_route_planner import GlobalRoutePlanner\n",
    "import open3d as o3d\n",
    "from datetime import datetime\n",
    "import math"
   ]
  },
  {
   "cell_type": "code",
   "execution_count": 20,
   "metadata": {},
   "outputs": [],
   "source": [
    "client = carla.Client('localhost', 2000)\n",
    "world = client.get_world()\n",
    "blueprints = [bp for bp in world.get_blueprint_library().filter('*')]"
   ]
  },
  {
   "cell_type": "code",
   "execution_count": 21,
   "metadata": {},
   "outputs": [
    {
     "data": {
      "text/plain": [
       "[<libcarla.command.Response at 0x1b7096a1f30>,\n",
       " <libcarla.command.Response at 0x1b70def66b0>,\n",
       " <libcarla.command.Response at 0x1b70def65b0>,\n",
       " <libcarla.command.Response at 0x1b70def63b0>,\n",
       " <libcarla.command.Response at 0x1b70def6530>,\n",
       " <libcarla.command.Response at 0x1b70def6430>,\n",
       " <libcarla.command.Response at 0x1b70def6730>,\n",
       " <libcarla.command.Response at 0x1b70def6330>,\n",
       " <libcarla.command.Response at 0x1b70def6230>,\n",
       " <libcarla.command.Response at 0x1b70def6030>,\n",
       " <libcarla.command.Response at 0x1b70def6830>,\n",
       " <libcarla.command.Response at 0x1b70def68b0>,\n",
       " <libcarla.command.Response at 0x1b70def6930>,\n",
       " <libcarla.command.Response at 0x1b70def69b0>,\n",
       " <libcarla.command.Response at 0x1b70def6a30>,\n",
       " <libcarla.command.Response at 0x1b70def6ab0>,\n",
       " <libcarla.command.Response at 0x1b70def6b30>,\n",
       " <libcarla.command.Response at 0x1b70def67b0>,\n",
       " <libcarla.command.Response at 0x1b70def6bb0>,\n",
       " <libcarla.command.Response at 0x1b70def6c30>,\n",
       " <libcarla.command.Response at 0x1b70def6cb0>,\n",
       " <libcarla.command.Response at 0x1b70def6d30>,\n",
       " <libcarla.command.Response at 0x1b70def6db0>,\n",
       " <libcarla.command.Response at 0x1b70def6e30>,\n",
       " <libcarla.command.Response at 0x1b70def6eb0>,\n",
       " <libcarla.command.Response at 0x1b70def6f30>,\n",
       " <libcarla.command.Response at 0x1b705b66030>,\n",
       " <libcarla.command.Response at 0x1b705b660b0>,\n",
       " <libcarla.command.Response at 0x1b705b66130>,\n",
       " <libcarla.command.Response at 0x1b705b661b0>]"
      ]
     },
     "execution_count": 21,
     "metadata": {},
     "output_type": "execute_result"
    }
   ],
   "source": [
    "spawn_points = world.get_map().get_spawn_points()\n",
    "vehicle_bp = world.get_blueprint_library().filter('*mini*')\n",
    "\n",
    "vehicle_start_point = spawn_points[1]\n",
    "vehicle = world.try_spawn_actor(vehicle_bp[0], vehicle_start_point)\n",
    "\n",
    "numberofSpawnPoints = len(spawn_points)\n",
    "numberofbikers = 30\n",
    "random.shuffle(spawn_points)\n",
    "\n",
    "traffic_manager = client.get_trafficmanager()\n",
    "traffic_manager.set_global_distance_to_leading_vehicle(2.5)\n",
    "\n",
    "\n",
    "SetAutopilot = carla.command.SetAutopilot\n",
    "SpawnActor = carla.command.SpawnActor\n",
    "FutureActor = carla.command.FutureActor\n",
    "\n",
    "bikerlist = []\n",
    "\n",
    "for i in range(numberofbikers):\n",
    "\n",
    "    bicycle_bp = world.get_blueprint_library().filter('*crossbike*')[0]\n",
    "    bicycle_bp.set_attribute('role_name', 'autopilot')\n",
    "    transform = spawn_points[i % numberofSpawnPoints]\n",
    "    spawn_command = SpawnActor(bicycle_bp, transform).then(SetAutopilot(FutureActor, True))\n",
    "    bikerlist.append(spawn_command)\n",
    "\n",
    "client.apply_batch_sync(bikerlist, True)\n",
    "\n",
    "\n",
    "\n"
   ]
  },
  {
   "cell_type": "markdown",
   "metadata": {},
   "source": [
    "# Setup base camera"
   ]
  },
  {
   "cell_type": "code",
   "execution_count": 22,
   "metadata": {},
   "outputs": [],
   "source": [
    "#setup the camera\n",
    "CAMERA_POS_Z = 1.5 \n",
    "CAMERA_POS_X = 0 \n",
    "\n",
    "camera_bp = world.get_blueprint_library().find('sensor.camera.rgb')\n",
    "camera_bp.set_attribute('image_size_x', '640') # this ratio works in CARLA 9.14 on Windows\n",
    "camera_bp.set_attribute('image_size_y', '360')\n",
    "camera_init_trans = carla.Transform(carla.Location(z=CAMERA_POS_Z,x=CAMERA_POS_X))\n",
    "camera = world.spawn_actor(camera_bp,camera_init_trans,attach_to=vehicle)\n",
    "\n",
    "def camera_callback(image,data_dict):\n",
    "    data_dict['image'] = np.reshape(np.copy(image.raw_data),(image.height,image.width,4))\n",
    "\n",
    "image_w = camera_bp.get_attribute('image_size_x').as_int()\n",
    "image_h = camera_bp.get_attribute('image_size_y').as_int()\n",
    "\n",
    "camera_data = {'image': np.zeros((image_h,image_w,4))}\n",
    "# this actually opens a live stream from the camera\n",
    "camera.listen(lambda image: camera_callback(image,camera_data))\n",
    "vehicle.set_autopilot(True)\n",
    "model = YOLO(\"best.pt\")\n",
    "\n"
   ]
  },
  {
   "cell_type": "markdown",
   "metadata": {},
   "source": [
    "### Bicycle Detection"
   ]
  },
  {
   "cell_type": "markdown",
   "metadata": {},
   "source": [
    "### Depth Camera"
   ]
  },
  {
   "cell_type": "code",
   "execution_count": 23,
   "metadata": {},
   "outputs": [],
   "source": [
    "depth_cam_bp = world.get_blueprint_library().find('sensor.camera.depth')\n",
    "depth_cam_bp.set_attribute('image_size_x', '640')\n",
    "depth_cam_bp.set_attribute('image_size_y', '360')\n",
    "depth_cam_bp.set_attribute('fov', '90')\n",
    "depth_cam_location = carla.Transform(carla.Location(x=CAMERA_POS_X, z=CAMERA_POS_Z))  # Offset from vehicle\n",
    "depth_camera = world.spawn_actor(depth_cam_bp, depth_cam_location, attach_to=vehicle)"
   ]
  },
  {
   "cell_type": "code",
   "execution_count": 24,
   "metadata": {},
   "outputs": [],
   "source": [
    "image_w = depth_cam_bp.get_attribute('image_size_x').as_int()\n",
    "image_h = depth_cam_bp.get_attribute('image_size_y').as_int()\n",
    "\n",
    "depth_data = {'image': np.zeros((image_h,image_w,4))}\n",
    "def depth_callback(image,data_dict):\n",
    "    image.convert(carla.ColorConverter.LogarithmicDepth)\n",
    "    data_dict['image'] = np.reshape(np.copy(image.raw_data),(image.height,image.width,4))\n",
    "    #depth_data = np.frombuffer(image.raw_data, dtype=np.uint8).reshape((image.height, image.width, 4))\n",
    "\n",
    "depth_camera.listen(lambda image: depth_callback(image,depth_data))\n"
   ]
  },
  {
   "cell_type": "markdown",
   "metadata": {},
   "source": [
    "### SHOW all camera together"
   ]
  },
  {
   "cell_type": "code",
   "execution_count": null,
   "metadata": {},
   "outputs": [],
   "source": [
    "def decode_depth_image(depth_image):\n",
    "    # Extract depth channels and decode to meters\n",
    "    depth_image = depth_image[:, :, :3].astype(np.float32)\n",
    "    depth_image = (depth_image[:, :, 2] + depth_image[:, :, 1] * 256 + depth_image[:, :, 0] * 256*256) / (256*256*256 - 1)\n",
    "    depth_image *= 1000  # Convert to meters\n",
    "\n",
    "    return depth_image \n",
    "\n",
    "\n",
    "#Bounding boxes distances\n",
    "def get_object_distance(depthimage, bbox):\n",
    "    x1, y1, x2, y2 = bbox\n",
    "\n",
    "    depthimage = decode_depth_image(depthimage)\n",
    "\n",
    "    y1, y2 = max(0, int(y1)), min(depthimage.shape[0], int(y2))\n",
    "    x1, x2 = max(0, int(x1)), min(depthimage.shape[1], int(x2))\n",
    "\n",
    "    # Extract the object depth within the bounding box\n",
    "    object_depth = depthimage[y1:y2, x1:x2]\n",
    "    print(object_depth)\n",
    "    height, width = object_depth.shape\n",
    "\n",
    "    # Calculate the center indices\n",
    "    center_y = height // 2\n",
    "    center_x = width // 2\n",
    "\n",
    "    # Prepare list for middle points\n",
    "    middle_points = []\n",
    "\n",
    "    # Calculate the four middle points based on the center\n",
    "    if height > 1 and width > 1:  # Ensure there's enough data to get middle points\n",
    "        middle_points = [\n",
    "            (center_x - 1, center_y - 1),  # Top-left\n",
    "            (center_x - 1, center_y),      # Middle-left\n",
    "            (center_x, center_y - 1),      # Top-right\n",
    "            (center_x, center_y)           # Middle-right\n",
    "        ]\n",
    "    \n",
    "    valid_points = [(x, y) for x, y in middle_points if 0 <= x < width and 0 <= y < height]\n",
    "    depth_values = [object_depth[y, x] for x, y in valid_points]\n",
    "    print(depth_values)\n",
    "\n",
    "    if object_depth.size > 0:\n",
    "        distance = np.mean(depth_values)  # Use np.min(object_depth) for closest point\n",
    "        return distance\n",
    "    else:\n",
    "        return None\n"
   ]
  },
  {
   "cell_type": "code",
   "execution_count": null,
   "metadata": {},
   "outputs": [],
   "source": [
    "while True:\n",
    "    # Decode depth image for visualization\n",
    "    #depth_frame = decode_depth_image(depth_data['image'])\n",
    "    depth_frame = depth_data['image']\n",
    "    print(depth_frame.shape)\n",
    "    frame = camera_data['image']\n",
    "    # Convert RGB image from BGRA to BGR\n",
    "    frame = cv2.cvtColor(frame, cv2.COLOR_BGRA2BGR)\n",
    "    \n",
    "    # Run the object detection model on the RGB frame\n",
    "    results = model(frame)\n",
    "    for result in results:\n",
    "        for box in result.boxes:\n",
    "            # Extract box coordinates and other details\n",
    "            x1, y1, x2, y2 = box.xyxy[0]\n",
    "              # Bounding box coordinates\n",
    "            conf = box.conf[0]            # Confidence score\n",
    "            cls = box.cls[0]              # Class label\n",
    "            bicycle_distance = get_object_distance(depth_frame, box.xyxy[0])\n",
    "            # Draw the bounding box and label on the frame\n",
    "            cv2.rectangle(frame, (int(x1), int(y1)), (int(x2), int(y2)), (0, 255, 0), 2)\n",
    "            cv2.rectangle(depth_frame, (int(x1), int(y1)), (int(x2), int(y2)), (0, 255, 0), 2)\n",
    "            label = f\"{model.names[int(cls)]}: {conf:.2f}\"\n",
    "            cv2.putText(frame, label, (int(x1), int(y1) - 10), cv2.FONT_HERSHEY_SIMPLEX, 0.5, (0, 255, 0), 2)\n",
    "            try:\n",
    "                distance = f\"Distance to bicycle: {bicycle_distance:.2f} meters\"\n",
    "                cv2.putText(frame, distance, (int(x1), int(y1)-30), cv2.FONT_HERSHEY_SIMPLEX, 0.5, (0, 255, 0), 2)\n",
    "            except:\n",
    "                print(bicycle_distance)\n",
    "    # Combine RGB and depth images side by side\n",
    "    #combined_image = np.hstack((frame, depth_frame))\n",
    "    \n",
    "    # Display the combined frame\n",
    "    cv2.imshow('Fake self-driving', depth_frame)\n",
    "    cv2.imshow('RGB Camera', frame)\n",
    "\n",
    "    # Exit loop on 'q' key press\n",
    "    if cv2.waitKey(1) == ord('q'):\n",
    "        break\n",
    "\n",
    "\n",
    "# Cleanup\n",
    "cv2.destroyAllWindows()\n",
    "#depth_camera.stop()"
   ]
  },
  {
   "cell_type": "code",
   "execution_count": 28,
   "metadata": {},
   "outputs": [],
   "source": [
    "#Destroying the existing things\n",
    "for actor in world.get_actors().filter('*vehicle*'):\n",
    "    actor.destroy()\n",
    "for sensor in world.get_actors().filter('*sensor*'):\n",
    "    sensor.destroy()"
   ]
  }
 ],
 "metadata": {
  "kernelspec": {
   "display_name": "carla-sim",
   "language": "python",
   "name": "python3"
  },
  "language_info": {
   "codemirror_mode": {
    "name": "ipython",
    "version": 3
   },
   "file_extension": ".py",
   "mimetype": "text/x-python",
   "name": "python",
   "nbconvert_exporter": "python",
   "pygments_lexer": "ipython3",
   "version": "3.7.16"
  }
 },
 "nbformat": 4,
 "nbformat_minor": 2
}
